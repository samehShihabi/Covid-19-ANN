{
 "cells": [
  {
   "cell_type": "code",
   "execution_count": 532,
   "id": "51b19a25",
   "metadata": {},
   "outputs": [],
   "source": [
    "import pandas as pd\n",
    "import numpy as np\n",
    "import matplotlib.pyplot as plt\n",
    "from tensorflow import keras\n",
    "from tensorflow.keras.layers import Dense, Activation, LSTM\n",
    "from sklearn.preprocessing import MinMaxScaler\n",
    "from kerastuner.tuners import RandomSearch\n",
    "from kerastuner.engine.hyperparameters import HyperParameters\n",
    "from keras.preprocessing.sequence import TimeseriesGenerator\n",
    "from sklearn.model_selection import train_test_split\n",
    "import time"
   ]
  },
  {
   "cell_type": "code",
   "execution_count": 533,
   "id": "719bbde0",
   "metadata": {},
   "outputs": [
    {
     "data": {
      "text/html": [
       "<div>\n",
       "<style scoped>\n",
       "    .dataframe tbody tr th:only-of-type {\n",
       "        vertical-align: middle;\n",
       "    }\n",
       "\n",
       "    .dataframe tbody tr th {\n",
       "        vertical-align: top;\n",
       "    }\n",
       "\n",
       "    .dataframe thead th {\n",
       "        text-align: right;\n",
       "    }\n",
       "</style>\n",
       "<table border=\"1\" class=\"dataframe\">\n",
       "  <thead>\n",
       "    <tr style=\"text-align: right;\">\n",
       "      <th></th>\n",
       "      <th>Bahrain_new_cases</th>\n",
       "      <th>Bahrain_Mean_Tem</th>\n",
       "      <th>Bahrain_Mean_Humidity</th>\n",
       "      <th>Bahrain_Mean_Dewpoint</th>\n",
       "      <th>Bahrain_Mean_Windspeed</th>\n",
       "      <th>Qatar_new_cases</th>\n",
       "      <th>Qatar_Mean_Temp</th>\n",
       "      <th>Qatar_Mean_Humidity</th>\n",
       "      <th>Qatar_Mean_Dewpoint</th>\n",
       "      <th>Qatar_Mean_Windspeed</th>\n",
       "      <th>...</th>\n",
       "      <th>Oman_new_cases</th>\n",
       "      <th>Oman_Mean_Temp</th>\n",
       "      <th>Oman_Mean_Humidity</th>\n",
       "      <th>Oman_Mean_Dewpoint</th>\n",
       "      <th>Oman_Mean_Windspeed</th>\n",
       "      <th>UAE_new_cases</th>\n",
       "      <th>UAE_Mean_Temp</th>\n",
       "      <th>UAE_Mean_Humidity</th>\n",
       "      <th>UAE_Mean_Dewpoint</th>\n",
       "      <th>UAE_Mean_Windspeed</th>\n",
       "    </tr>\n",
       "    <tr>\n",
       "      <th>date</th>\n",
       "      <th></th>\n",
       "      <th></th>\n",
       "      <th></th>\n",
       "      <th></th>\n",
       "      <th></th>\n",
       "      <th></th>\n",
       "      <th></th>\n",
       "      <th></th>\n",
       "      <th></th>\n",
       "      <th></th>\n",
       "      <th></th>\n",
       "      <th></th>\n",
       "      <th></th>\n",
       "      <th></th>\n",
       "      <th></th>\n",
       "      <th></th>\n",
       "      <th></th>\n",
       "      <th></th>\n",
       "      <th></th>\n",
       "      <th></th>\n",
       "      <th></th>\n",
       "    </tr>\n",
       "  </thead>\n",
       "  <tbody>\n",
       "    <tr>\n",
       "      <th>2020-04-17</th>\n",
       "      <td>23</td>\n",
       "      <td>25</td>\n",
       "      <td>66</td>\n",
       "      <td>53</td>\n",
       "      <td>6.0</td>\n",
       "      <td>392</td>\n",
       "      <td>25</td>\n",
       "      <td>64</td>\n",
       "      <td>62</td>\n",
       "      <td>5</td>\n",
       "      <td>...</td>\n",
       "      <td>50</td>\n",
       "      <td>27</td>\n",
       "      <td>80</td>\n",
       "      <td>73</td>\n",
       "      <td>6</td>\n",
       "      <td>460</td>\n",
       "      <td>25</td>\n",
       "      <td>69</td>\n",
       "      <td>66</td>\n",
       "      <td>8</td>\n",
       "    </tr>\n",
       "    <tr>\n",
       "      <th>2020-04-18</th>\n",
       "      <td>44</td>\n",
       "      <td>28</td>\n",
       "      <td>62</td>\n",
       "      <td>54</td>\n",
       "      <td>9.0</td>\n",
       "      <td>560</td>\n",
       "      <td>25</td>\n",
       "      <td>67</td>\n",
       "      <td>65</td>\n",
       "      <td>8</td>\n",
       "      <td>...</td>\n",
       "      <td>111</td>\n",
       "      <td>27</td>\n",
       "      <td>74</td>\n",
       "      <td>72</td>\n",
       "      <td>7</td>\n",
       "      <td>477</td>\n",
       "      <td>26</td>\n",
       "      <td>67</td>\n",
       "      <td>67</td>\n",
       "      <td>8</td>\n",
       "    </tr>\n",
       "    <tr>\n",
       "      <th>2020-04-19</th>\n",
       "      <td>29</td>\n",
       "      <td>25</td>\n",
       "      <td>70</td>\n",
       "      <td>64</td>\n",
       "      <td>9.0</td>\n",
       "      <td>345</td>\n",
       "      <td>26</td>\n",
       "      <td>77</td>\n",
       "      <td>71</td>\n",
       "      <td>8</td>\n",
       "      <td>...</td>\n",
       "      <td>86</td>\n",
       "      <td>28</td>\n",
       "      <td>79</td>\n",
       "      <td>76</td>\n",
       "      <td>7</td>\n",
       "      <td>0</td>\n",
       "      <td>30</td>\n",
       "      <td>42</td>\n",
       "      <td>58</td>\n",
       "      <td>7</td>\n",
       "    </tr>\n",
       "    <tr>\n",
       "      <th>2020-04-20</th>\n",
       "      <td>108</td>\n",
       "      <td>25</td>\n",
       "      <td>72</td>\n",
       "      <td>60</td>\n",
       "      <td>6.0</td>\n",
       "      <td>440</td>\n",
       "      <td>27</td>\n",
       "      <td>65</td>\n",
       "      <td>67</td>\n",
       "      <td>8</td>\n",
       "      <td>...</td>\n",
       "      <td>144</td>\n",
       "      <td>30</td>\n",
       "      <td>67</td>\n",
       "      <td>73</td>\n",
       "      <td>7</td>\n",
       "      <td>479</td>\n",
       "      <td>31</td>\n",
       "      <td>39</td>\n",
       "      <td>59</td>\n",
       "      <td>9</td>\n",
       "    </tr>\n",
       "    <tr>\n",
       "      <th>2020-04-21</th>\n",
       "      <td>26</td>\n",
       "      <td>26</td>\n",
       "      <td>67</td>\n",
       "      <td>57</td>\n",
       "      <td>6.0</td>\n",
       "      <td>567</td>\n",
       "      <td>27</td>\n",
       "      <td>59</td>\n",
       "      <td>64</td>\n",
       "      <td>7</td>\n",
       "      <td>...</td>\n",
       "      <td>98</td>\n",
       "      <td>31</td>\n",
       "      <td>47</td>\n",
       "      <td>64</td>\n",
       "      <td>8</td>\n",
       "      <td>484</td>\n",
       "      <td>29</td>\n",
       "      <td>47</td>\n",
       "      <td>62</td>\n",
       "      <td>10</td>\n",
       "    </tr>\n",
       "    <tr>\n",
       "      <th>...</th>\n",
       "      <td>...</td>\n",
       "      <td>...</td>\n",
       "      <td>...</td>\n",
       "      <td>...</td>\n",
       "      <td>...</td>\n",
       "      <td>...</td>\n",
       "      <td>...</td>\n",
       "      <td>...</td>\n",
       "      <td>...</td>\n",
       "      <td>...</td>\n",
       "      <td>...</td>\n",
       "      <td>...</td>\n",
       "      <td>...</td>\n",
       "      <td>...</td>\n",
       "      <td>...</td>\n",
       "      <td>...</td>\n",
       "      <td>...</td>\n",
       "      <td>...</td>\n",
       "      <td>...</td>\n",
       "      <td>...</td>\n",
       "      <td>...</td>\n",
       "    </tr>\n",
       "    <tr>\n",
       "      <th>2021-09-07</th>\n",
       "      <td>105</td>\n",
       "      <td>59</td>\n",
       "      <td>53</td>\n",
       "      <td>53</td>\n",
       "      <td>5.0</td>\n",
       "      <td>189</td>\n",
       "      <td>35</td>\n",
       "      <td>47</td>\n",
       "      <td>72</td>\n",
       "      <td>5</td>\n",
       "      <td>...</td>\n",
       "      <td>80</td>\n",
       "      <td>32</td>\n",
       "      <td>77</td>\n",
       "      <td>81</td>\n",
       "      <td>5</td>\n",
       "      <td>977</td>\n",
       "      <td>34</td>\n",
       "      <td>66</td>\n",
       "      <td>80</td>\n",
       "      <td>7</td>\n",
       "    </tr>\n",
       "    <tr>\n",
       "      <th>2021-09-08</th>\n",
       "      <td>139</td>\n",
       "      <td>46</td>\n",
       "      <td>66</td>\n",
       "      <td>66</td>\n",
       "      <td>7.0</td>\n",
       "      <td>172</td>\n",
       "      <td>35</td>\n",
       "      <td>61</td>\n",
       "      <td>79</td>\n",
       "      <td>6</td>\n",
       "      <td>...</td>\n",
       "      <td>67</td>\n",
       "      <td>33</td>\n",
       "      <td>76</td>\n",
       "      <td>81</td>\n",
       "      <td>6</td>\n",
       "      <td>952</td>\n",
       "      <td>36</td>\n",
       "      <td>58</td>\n",
       "      <td>77</td>\n",
       "      <td>7</td>\n",
       "    </tr>\n",
       "    <tr>\n",
       "      <th>2021-09-09</th>\n",
       "      <td>114</td>\n",
       "      <td>31</td>\n",
       "      <td>51</td>\n",
       "      <td>51</td>\n",
       "      <td>17.0</td>\n",
       "      <td>0</td>\n",
       "      <td>37</td>\n",
       "      <td>50</td>\n",
       "      <td>75</td>\n",
       "      <td>11</td>\n",
       "      <td>...</td>\n",
       "      <td>52</td>\n",
       "      <td>32</td>\n",
       "      <td>70</td>\n",
       "      <td>79</td>\n",
       "      <td>5</td>\n",
       "      <td>833</td>\n",
       "      <td>36</td>\n",
       "      <td>61</td>\n",
       "      <td>80</td>\n",
       "      <td>9</td>\n",
       "    </tr>\n",
       "    <tr>\n",
       "      <th>2021-09-10</th>\n",
       "      <td>88</td>\n",
       "      <td>31</td>\n",
       "      <td>49</td>\n",
       "      <td>49</td>\n",
       "      <td>16.0</td>\n",
       "      <td>143</td>\n",
       "      <td>36</td>\n",
       "      <td>42</td>\n",
       "      <td>71</td>\n",
       "      <td>12</td>\n",
       "      <td>...</td>\n",
       "      <td>57</td>\n",
       "      <td>32</td>\n",
       "      <td>74</td>\n",
       "      <td>80</td>\n",
       "      <td>5</td>\n",
       "      <td>772</td>\n",
       "      <td>36</td>\n",
       "      <td>61</td>\n",
       "      <td>80</td>\n",
       "      <td>7</td>\n",
       "    </tr>\n",
       "    <tr>\n",
       "      <th>2021-09-11</th>\n",
       "      <td>88</td>\n",
       "      <td>27</td>\n",
       "      <td>59</td>\n",
       "      <td>59</td>\n",
       "      <td>11.0</td>\n",
       "      <td>126</td>\n",
       "      <td>35</td>\n",
       "      <td>56</td>\n",
       "      <td>76</td>\n",
       "      <td>9</td>\n",
       "      <td>...</td>\n",
       "      <td>61</td>\n",
       "      <td>32</td>\n",
       "      <td>76</td>\n",
       "      <td>81</td>\n",
       "      <td>6</td>\n",
       "      <td>744</td>\n",
       "      <td>36</td>\n",
       "      <td>57</td>\n",
       "      <td>78</td>\n",
       "      <td>8</td>\n",
       "    </tr>\n",
       "  </tbody>\n",
       "</table>\n",
       "<p>513 rows × 30 columns</p>\n",
       "</div>"
      ],
      "text/plain": [
       "            Bahrain_new_cases  Bahrain_Mean_Tem  Bahrain_Mean_Humidity  \\\n",
       "date                                                                     \n",
       "2020-04-17                 23                25                     66   \n",
       "2020-04-18                 44                28                     62   \n",
       "2020-04-19                 29                25                     70   \n",
       "2020-04-20                108                25                     72   \n",
       "2020-04-21                 26                26                     67   \n",
       "...                       ...               ...                    ...   \n",
       "2021-09-07                105                59                     53   \n",
       "2021-09-08                139                46                     66   \n",
       "2021-09-09                114                31                     51   \n",
       "2021-09-10                 88                31                     49   \n",
       "2021-09-11                 88                27                     59   \n",
       "\n",
       "            Bahrain_Mean_Dewpoint  Bahrain_Mean_Windspeed  Qatar_new_cases  \\\n",
       "date                                                                         \n",
       "2020-04-17                     53                     6.0              392   \n",
       "2020-04-18                     54                     9.0              560   \n",
       "2020-04-19                     64                     9.0              345   \n",
       "2020-04-20                     60                     6.0              440   \n",
       "2020-04-21                     57                     6.0              567   \n",
       "...                           ...                     ...              ...   \n",
       "2021-09-07                     53                     5.0              189   \n",
       "2021-09-08                     66                     7.0              172   \n",
       "2021-09-09                     51                    17.0                0   \n",
       "2021-09-10                     49                    16.0              143   \n",
       "2021-09-11                     59                    11.0              126   \n",
       "\n",
       "            Qatar_Mean_Temp  Qatar_Mean_Humidity  Qatar_Mean_Dewpoint  \\\n",
       "date                                                                    \n",
       "2020-04-17               25                   64                   62   \n",
       "2020-04-18               25                   67                   65   \n",
       "2020-04-19               26                   77                   71   \n",
       "2020-04-20               27                   65                   67   \n",
       "2020-04-21               27                   59                   64   \n",
       "...                     ...                  ...                  ...   \n",
       "2021-09-07               35                   47                   72   \n",
       "2021-09-08               35                   61                   79   \n",
       "2021-09-09               37                   50                   75   \n",
       "2021-09-10               36                   42                   71   \n",
       "2021-09-11               35                   56                   76   \n",
       "\n",
       "            Qatar_Mean_Windspeed  ...  Oman_new_cases  Oman_Mean_Temp  \\\n",
       "date                              ...                                   \n",
       "2020-04-17                     5  ...              50              27   \n",
       "2020-04-18                     8  ...             111              27   \n",
       "2020-04-19                     8  ...              86              28   \n",
       "2020-04-20                     8  ...             144              30   \n",
       "2020-04-21                     7  ...              98              31   \n",
       "...                          ...  ...             ...             ...   \n",
       "2021-09-07                     5  ...              80              32   \n",
       "2021-09-08                     6  ...              67              33   \n",
       "2021-09-09                    11  ...              52              32   \n",
       "2021-09-10                    12  ...              57              32   \n",
       "2021-09-11                     9  ...              61              32   \n",
       "\n",
       "            Oman_Mean_Humidity  Oman_Mean_Dewpoint  Oman_Mean_Windspeed  \\\n",
       "date                                                                      \n",
       "2020-04-17                  80                  73                    6   \n",
       "2020-04-18                  74                  72                    7   \n",
       "2020-04-19                  79                  76                    7   \n",
       "2020-04-20                  67                  73                    7   \n",
       "2020-04-21                  47                  64                    8   \n",
       "...                        ...                 ...                  ...   \n",
       "2021-09-07                  77                  81                    5   \n",
       "2021-09-08                  76                  81                    6   \n",
       "2021-09-09                  70                  79                    5   \n",
       "2021-09-10                  74                  80                    5   \n",
       "2021-09-11                  76                  81                    6   \n",
       "\n",
       "            UAE_new_cases  UAE_Mean_Temp  UAE_Mean_Humidity  \\\n",
       "date                                                          \n",
       "2020-04-17            460             25                 69   \n",
       "2020-04-18            477             26                 67   \n",
       "2020-04-19              0             30                 42   \n",
       "2020-04-20            479             31                 39   \n",
       "2020-04-21            484             29                 47   \n",
       "...                   ...            ...                ...   \n",
       "2021-09-07            977             34                 66   \n",
       "2021-09-08            952             36                 58   \n",
       "2021-09-09            833             36                 61   \n",
       "2021-09-10            772             36                 61   \n",
       "2021-09-11            744             36                 57   \n",
       "\n",
       "            UAE_Mean_Dewpoint  UAE_Mean_Windspeed  \n",
       "date                                               \n",
       "2020-04-17                 66                   8  \n",
       "2020-04-18                 67                   8  \n",
       "2020-04-19                 58                   7  \n",
       "2020-04-20                 59                   9  \n",
       "2020-04-21                 62                  10  \n",
       "...                       ...                 ...  \n",
       "2021-09-07                 80                   7  \n",
       "2021-09-08                 77                   7  \n",
       "2021-09-09                 80                   9  \n",
       "2021-09-10                 80                   7  \n",
       "2021-09-11                 78                   8  \n",
       "\n",
       "[513 rows x 30 columns]"
      ]
     },
     "execution_count": 533,
     "metadata": {},
     "output_type": "execute_result"
    }
   ],
   "source": [
    "df=pd.read_csv('COVID-19 data for GCC countries.csv', index_col='date', parse_dates=True)\n",
    "df"
   ]
  },
  {
   "cell_type": "code",
   "execution_count": 534,
   "id": "fba9769e",
   "metadata": {},
   "outputs": [
    {
     "data": {
      "text/plain": [
       "Bahrain_new_cases         0\n",
       "Bahrain_Mean_Tem          0\n",
       "Bahrain_Mean_Humidity     0\n",
       "Bahrain_Mean_Dewpoint     0\n",
       "Bahrain_Mean_Windspeed    0\n",
       "Qatar_new_cases           0\n",
       "Qatar_Mean_Temp           0\n",
       "Qatar_Mean_Humidity       0\n",
       "Qatar_Mean_Dewpoint       0\n",
       "Qatar_Mean_Windspeed      0\n",
       "KSA_new_cases             0\n",
       "KSA_Mean_Temp             0\n",
       "KSA_Mean_Humidity         0\n",
       "KSA_Mean_Dewpoint         0\n",
       "KSA_Mean_Windspeed        0\n",
       "Kuwait_new_cases          0\n",
       "Kuwait_Mean_Temp          0\n",
       "Kuwait_Mean_Humidity      0\n",
       "Kuwait_Mean_Dewpoint      0\n",
       "Kuwait_Mean_Windspeed     0\n",
       "Oman_new_cases            0\n",
       "Oman_Mean_Temp            0\n",
       "Oman_Mean_Humidity        0\n",
       "Oman_Mean_Dewpoint        0\n",
       "Oman_Mean_Windspeed       0\n",
       "UAE_new_cases             0\n",
       "UAE_Mean_Temp             0\n",
       "UAE_Mean_Humidity         0\n",
       "UAE_Mean_Dewpoint         0\n",
       "UAE_Mean_Windspeed        0\n",
       "dtype: int64"
      ]
     },
     "execution_count": 534,
     "metadata": {},
     "output_type": "execute_result"
    }
   ],
   "source": [
    "df.isnull().sum()"
   ]
  },
  {
   "cell_type": "code",
   "execution_count": 750,
   "id": "da4eb1a9",
   "metadata": {
    "scrolled": true
   },
   "outputs": [
    {
     "data": {
      "text/plain": [
       "(513, 2)"
      ]
     },
     "execution_count": 750,
     "metadata": {},
     "output_type": "execute_result"
    }
   ],
   "source": [
    "UAECOVID=df[[\"UAE_new_cases\",\"UAE_Mean_Temp\"]]\n",
    "UAECOVID.shape"
   ]
  },
  {
   "cell_type": "code",
   "execution_count": 751,
   "id": "908215ec",
   "metadata": {},
   "outputs": [
    {
     "name": "stdout",
     "output_type": "stream",
     "text": [
      "<class 'numpy.float64'>\n",
      "0.11566507417651496 0.30434782608695654\n"
     ]
    }
   ],
   "source": [
    "scalarUAECOVID=MinMaxScaler()\n",
    "scalarUAECOVID.fit(UAECOVID)\n",
    "normalizedUAECOVID=scalarUAECOVID.transform(UAECOVID)\n",
    "\n",
    "print(type(normalizedUAECOVID[2][0]))\n",
    "print(normalizedUAECOVID[0][0],normalizedUAECOVID[0][1])"
   ]
  },
  {
   "cell_type": "code",
   "execution_count": 752,
   "id": "474a2e4e",
   "metadata": {},
   "outputs": [
    {
     "name": "stdout",
     "output_type": "stream",
     "text": [
      "513\n",
      "<class 'numpy.ndarray'>\n",
      "513 513\n",
      "(513, 1)\n",
      "(513, 2)\n",
      "(array([[[0.11993965, 0.34782609],\n",
      "        [0.        , 0.52173913],\n",
      "        [0.12044254, 0.56521739],\n",
      "        [0.12169977, 0.47826087],\n",
      "        [0.12320845, 0.47826087],\n",
      "        [0.12144833, 0.47826087],\n",
      "        [0.13024893, 0.56521739]]]), array([0.13200905]))\n"
     ]
    }
   ],
   "source": [
    "from numpy import hstack\n",
    "n_input=7\n",
    "n_output=1\n",
    "casesUAE=[]\n",
    "UAEtemp=[]\n",
    "\n",
    "number=normalizedUAECOVID.shape[0]\n",
    "print(number)\n",
    "print(type(normalizedUAECOVID))\n",
    "targetUAE=[]\n",
    "targetCases=normalizedUAECOVID[:,0]\n",
    "for i in range(0,number):\n",
    "    casesUAE.append(normalizedUAECOVID[i][0])\n",
    "    UAEtemp.append(normalizedUAECOVID[i][1])\n",
    "    \n",
    "casesUAE=np.array(casesUAE)\n",
    "UAEtemp=np.array(UAEtemp)\n",
    "print(len(casesUAE),len(UAEtemp))\n",
    "casesUAE=casesUAE.reshape(len(casesUAE),1)\n",
    "UAEtemp=UAEtemp.reshape(len(UAEtemp),1)\n",
    "print(casesUAE.shape)\n",
    "datasetUAE=hstack((casesUAE,UAEtemp))\n",
    "print(datasetUAE.shape)\n",
    "generatorUAE=TimeseriesGenerator(datasetUAE,targetCases,length=n_input,batch_size=1)\n",
    "print(generatorUAE[1])"
   ]
  },
  {
   "cell_type": "code",
   "execution_count": 753,
   "id": "d1d24da9",
   "metadata": {},
   "outputs": [
    {
     "name": "stdout",
     "output_type": "stream",
     "text": [
      "<class 'numpy.ndarray'>\n",
      "(506, 7, 2)\n",
      "(506,)\n",
      "<class 'numpy.ndarray'>\n",
      "(404, 7, 2)\n"
     ]
    }
   ],
   "source": [
    "dataUAE=[]\n",
    "targetUAE=[]\n",
    "for i in range(len(generatorUAE)):\n",
    "    data1,target1=generatorUAE[i]\n",
    "    dataUAE.append(data1[0,:,:])\n",
    "    xx=float(target1)\n",
    "    targetUAE.append(xx)\n",
    "dataUAE=np.array(dataUAE)\n",
    "targetUAE=np.array(targetUAE)\n",
    "print(type(dataUAE))\n",
    "print(dataUAE.shape)\n",
    "print(targetUAE.shape)\n",
    "x_train_UAE,x_test_UAE,y_train_UAE,y_test_UAE=train_test_split(dataUAE,targetUAE,test_size=0.2,random_state=4)\n",
    "print(type(dataUAE))\n",
    "print(x_train_UAE.shape)"
   ]
  },
  {
   "cell_type": "code",
   "execution_count": 754,
   "id": "60d4da03",
   "metadata": {},
   "outputs": [],
   "source": [
    "def build_model(hp):\n",
    "    model=keras.models.Sequential()\n",
    "    model.add(LSTM((hp.Int(\"input_units\",min_value=10,max_value=300,step=10)),input_shape=(x_train_UAE.shape[1],x_train_UAE.shape[2]),activation='sigmoid',return_sequences=True))\n",
    "    for i in range(hp.Int(\"n_layers\",1,4)):\n",
    "        model.add(LSTM(hp.Int(f\"lstm_{i}_units\",min_value=10,max_value=300,step=10),activation='sigmoid',return_sequences=True))\n",
    "        \n",
    "    model.add(LSTM((hp.Int(\"output_units\",min_value=1,max_value=1,step=1)),activation='tanh',return_sequences=False))\n",
    "    model.compile(loss='mse',optimizer='adam',metrics=['accuracy'])\n",
    "    return model"
   ]
  },
  {
   "cell_type": "code",
   "execution_count": 755,
   "id": "316b5803",
   "metadata": {},
   "outputs": [],
   "source": [
    "UAE_bivar=f\"{int(time.time())}\""
   ]
  },
  {
   "cell_type": "code",
   "execution_count": 756,
   "id": "c563e55c",
   "metadata": {},
   "outputs": [],
   "source": [
    "tuner =RandomSearch(\n",
    "    build_model,\n",
    "    objective=\"loss\",\n",
    "    overwrite=False,\n",
    "    max_trials=3,\n",
    "    executions_per_trial=1,\n",
    "    directory=UAE_bivar)"
   ]
  },
  {
   "cell_type": "code",
   "execution_count": 757,
   "id": "fba38f8a",
   "metadata": {
    "scrolled": true
   },
   "outputs": [
    {
     "name": "stdout",
     "output_type": "stream",
     "text": [
      "Trial 3 Complete [00h 02m 04s]\n",
      "loss: 0.002285297028720379\n",
      "\n",
      "Best loss So Far: 0.0022587452549487352\n",
      "Total elapsed time: 00h 05m 20s\n",
      "INFO:tensorflow:Oracle triggered exit\n"
     ]
    }
   ],
   "source": [
    "tuner.search(x=x_train_UAE, y=y_train_UAE, epochs=40,batch_size=1,validation_data=(x_test_UAE,y_test_UAE))"
   ]
  },
  {
   "cell_type": "code",
   "execution_count": 758,
   "id": "196b8134",
   "metadata": {},
   "outputs": [],
   "source": [
    "import pickle "
   ]
  },
  {
   "cell_type": "code",
   "execution_count": 759,
   "id": "4c4c8867",
   "metadata": {
    "scrolled": false
   },
   "outputs": [
    {
     "name": "stdout",
     "output_type": "stream",
     "text": [
      "{'input_units': 170, 'n_layers': 1, 'lstm_0_units': 80, 'output_units': 1}\n"
     ]
    }
   ],
   "source": [
    "print(tuner.get_best_hyperparameters()[0].values)"
   ]
  },
  {
   "cell_type": "code",
   "execution_count": 760,
   "id": "9e1cad58",
   "metadata": {},
   "outputs": [
    {
     "name": "stdout",
     "output_type": "stream",
     "text": [
      "Results summary\n",
      "Results in 1639093083\\untitled_project\n",
      "Showing 10 best trials\n",
      "Objective(name='loss', direction='min')\n",
      "Trial summary\n",
      "Hyperparameters:\n",
      "input_units: 170\n",
      "n_layers: 1\n",
      "lstm_0_units: 80\n",
      "output_units: 1\n",
      "Score: 0.0022587452549487352\n",
      "Trial summary\n",
      "Hyperparameters:\n",
      "input_units: 190\n",
      "n_layers: 2\n",
      "lstm_0_units: 70\n",
      "output_units: 1\n",
      "lstm_1_units: 10\n",
      "Score: 0.002285297028720379\n",
      "Trial summary\n",
      "Hyperparameters:\n",
      "input_units: 30\n",
      "n_layers: 1\n",
      "lstm_0_units: 120\n",
      "output_units: 1\n",
      "Score: 0.002358224242925644\n",
      "None\n"
     ]
    }
   ],
   "source": [
    "print(tuner.results_summary())"
   ]
  },
  {
   "cell_type": "code",
   "execution_count": 761,
   "id": "4b08c12b",
   "metadata": {
    "scrolled": true
   },
   "outputs": [
    {
     "name": "stdout",
     "output_type": "stream",
     "text": [
      "Model: \"sequential\"\n",
      "_________________________________________________________________\n",
      " Layer (type)                Output Shape              Param #   \n",
      "=================================================================\n",
      " lstm (LSTM)                 (None, 7, 170)            117640    \n",
      "                                                                 \n",
      " lstm_1 (LSTM)               (None, 7, 80)             80320     \n",
      "                                                                 \n",
      " lstm_2 (LSTM)               (None, 1)                 328       \n",
      "                                                                 \n",
      "=================================================================\n",
      "Total params: 198,288\n",
      "Trainable params: 198,288\n",
      "Non-trainable params: 0\n",
      "_________________________________________________________________\n",
      "WARNING:tensorflow:Unresolved object in checkpoint: (root).optimizer.iter\n",
      "WARNING:tensorflow:Unresolved object in checkpoint: (root).optimizer.beta_1\n",
      "WARNING:tensorflow:Unresolved object in checkpoint: (root).optimizer.beta_2\n",
      "WARNING:tensorflow:Unresolved object in checkpoint: (root).optimizer.decay\n",
      "WARNING:tensorflow:Unresolved object in checkpoint: (root).optimizer.learning_rate\n",
      "WARNING:tensorflow:A checkpoint was restored (e.g. tf.train.Checkpoint.restore or tf.keras.Model.load_weights) but not all checkpointed values were used. See above for specific issues. Use expect_partial() on the load status object, e.g. tf.train.Checkpoint.restore(...).expect_partial(), to silence these warnings, or use assert_consumed() to make the check explicit. See https://www.tensorflow.org/guide/checkpoint#loading_mechanics for details.\n",
      "None\n"
     ]
    }
   ],
   "source": [
    "print(tuner.get_best_models()[0].summary())"
   ]
  },
  {
   "cell_type": "code",
   "execution_count": 762,
   "id": "3fbe4fb2",
   "metadata": {},
   "outputs": [
    {
     "data": {
      "text/plain": [
       "(513, 2)"
      ]
     },
     "execution_count": 762,
     "metadata": {},
     "output_type": "execute_result"
    }
   ],
   "source": [
    "KSACOVID=df[[\"KSA_new_cases\",\"KSA_Mean_Temp\"]]\n",
    "KSACOVID.shape"
   ]
  },
  {
   "cell_type": "code",
   "execution_count": 763,
   "id": "91711817",
   "metadata": {},
   "outputs": [
    {
     "name": "stdout",
     "output_type": "stream",
     "text": [
      "<class 'numpy.float64'>\n",
      "0.09013851560884845 0.375\n"
     ]
    }
   ],
   "source": [
    "scalarKSACOVID=MinMaxScaler()\n",
    "scalarKSACOVID.fit(KSACOVID)\n",
    "normalizedKSACOVID=scalarKSACOVID.transform(KSACOVID)\n",
    "\n",
    "print(type(normalizedKSACOVID[2][0]))\n",
    "print(normalizedKSACOVID[0][0],normalizedKSACOVID[0][1])"
   ]
  },
  {
   "cell_type": "code",
   "execution_count": 764,
   "id": "faa154d9",
   "metadata": {},
   "outputs": [
    {
     "name": "stdout",
     "output_type": "stream",
     "text": [
      "513\n",
      "<class 'numpy.ndarray'>\n",
      "513 513\n",
      "(513, 1)\n",
      "(513, 2)\n",
      "(array([[[0.14058301, 0.375     ],\n",
      "        [0.2170767 , 0.4375    ],\n",
      "        [0.20798015, 0.5       ],\n",
      "        [0.2150093 , 0.4375    ],\n",
      "        [0.2201778 , 0.375     ],\n",
      "        [0.21893736, 0.5       ],\n",
      "        [0.22245193, 0.5625    ]]]), array([0.22534629]))\n"
     ]
    }
   ],
   "source": [
    "from numpy import hstack\n",
    "n_input=7\n",
    "n_output=1\n",
    "casesKSA=[]\n",
    "KSAtemp=[]\n",
    "number=normalizedKSACOVID.shape[0]\n",
    "print(number)\n",
    "print(type(normalizedKSACOVID))\n",
    "targetKSA=[]\n",
    "targetCases1=normalizedKSACOVID[:,0]\n",
    "for i in range(0,number):\n",
    "    casesKSA.append(normalizedKSACOVID[i][0])\n",
    "    KSAtemp.append(normalizedKSACOVID[i][1])\n",
    "    \n",
    "casesKSA=np.array(casesKSA)\n",
    "KSAtemp=np.array(KSAtemp)\n",
    "\n",
    "print(len(casesKSA),len(KSAtemp))\n",
    "casesKSA=casesKSA.reshape(len(casesKSA),1)\n",
    "KSAtemp=KSAtemp.reshape(len(KSAtemp),1)\n",
    "\n",
    "print(casesKSA.shape)\n",
    "datasetKSA=hstack((casesKSA,KSAtemp))\n",
    "print(datasetKSA.shape)\n",
    "generatorKSA=TimeseriesGenerator(datasetKSA,targetCases1,length=n_input,batch_size=1)\n",
    "print(generatorKSA[1])"
   ]
  },
  {
   "cell_type": "code",
   "execution_count": 765,
   "id": "d6f974d4",
   "metadata": {},
   "outputs": [
    {
     "name": "stdout",
     "output_type": "stream",
     "text": [
      "<class 'numpy.ndarray'>\n",
      "(506, 7, 2)\n",
      "(506,)\n",
      "<class 'numpy.ndarray'>\n",
      "(404, 7, 2)\n"
     ]
    }
   ],
   "source": [
    "dataKSA=[]\n",
    "targetKSA=[]\n",
    "for i in range(len(generatorKSA)):\n",
    "    data2,target2=generatorKSA[i]\n",
    "    dataKSA.append(data2[0,:,:])\n",
    "    xx=float(target2)\n",
    "    targetKSA.append(xx)\n",
    "dataKSA=np.array(dataKSA)\n",
    "targetKSA=np.array(targetKSA)\n",
    "print(type(dataKSA))\n",
    "print(dataKSA.shape)\n",
    "print(targetKSA.shape)\n",
    "x_train_KSA,x_test_KSA,y_train_KSA,y_test_KSA=train_test_split(dataKSA,targetKSA,test_size=0.2,random_state=4)\n",
    "print(type(dataKSA))\n",
    "print(x_train_KSA.shape)"
   ]
  },
  {
   "cell_type": "code",
   "execution_count": 766,
   "id": "d8b2d764",
   "metadata": {},
   "outputs": [],
   "source": [
    "def build_model1(hp):\n",
    "    model1=keras.models.Sequential()\n",
    "    model1.add(LSTM((hp.Int(\"input_units\",min_value=10,max_value=300,step=10)),input_shape=(x_train_KSA.shape[1],x_train_KSA.shape[2]),activation='sigmoid',return_sequences=True))\n",
    "    \n",
    "    for i in range(hp.Int(\"n_layers\",1,4)):\n",
    "        model1.add(LSTM(hp.Int(f\"lstm_{i}_units\",min_value=10,max_value=300,step=10),activation='sigmoid',return_sequences=True))\n",
    "        \n",
    "    model1.add(LSTM((hp.Int(\"output_units\",min_value=1,max_value=1,step=1)),activation='tanh',return_sequences=False))\n",
    "    model1.compile(loss='mse',optimizer='adam',metrics=['accuracy'])\n",
    "    return model1"
   ]
  },
  {
   "cell_type": "code",
   "execution_count": 767,
   "id": "d5ab9929",
   "metadata": {},
   "outputs": [],
   "source": [
    "KSA_bivar=f\"{int(time.time())}\""
   ]
  },
  {
   "cell_type": "code",
   "execution_count": 768,
   "id": "45a03aca",
   "metadata": {},
   "outputs": [],
   "source": [
    "tuner =RandomSearch(\n",
    "    build_model1,\n",
    "    objective=\"loss\",\n",
    "    overwrite=False,\n",
    "    max_trials=3,\n",
    "    executions_per_trial=1,\n",
    "    directory=KSA_bivar)"
   ]
  },
  {
   "cell_type": "code",
   "execution_count": 769,
   "id": "ae15e65a",
   "metadata": {
    "scrolled": true
   },
   "outputs": [
    {
     "name": "stdout",
     "output_type": "stream",
     "text": [
      "Trial 3 Complete [00h 03m 09s]\n",
      "loss: 0.0011855403427034616\n",
      "\n",
      "Best loss So Far: 0.001128960051573813\n",
      "Total elapsed time: 00h 07m 38s\n",
      "INFO:tensorflow:Oracle triggered exit\n"
     ]
    }
   ],
   "source": [
    "tuner.search(x=x_train_KSA, y=y_train_KSA, epochs=40,batch_size=1,validation_data=(x_test_KSA,y_test_KSA))"
   ]
  },
  {
   "cell_type": "code",
   "execution_count": 770,
   "id": "66b5ff83",
   "metadata": {},
   "outputs": [
    {
     "name": "stdout",
     "output_type": "stream",
     "text": [
      "{'input_units': 110, 'n_layers': 1, 'lstm_0_units': 120, 'output_units': 1}\n"
     ]
    }
   ],
   "source": [
    "print(tuner.get_best_hyperparameters()[0].values)"
   ]
  },
  {
   "cell_type": "code",
   "execution_count": 771,
   "id": "abf1c422",
   "metadata": {},
   "outputs": [
    {
     "name": "stdout",
     "output_type": "stream",
     "text": [
      "Results summary\n",
      "Results in 1639093582\\untitled_project\n",
      "Showing 10 best trials\n",
      "Objective(name='loss', direction='min')\n",
      "Trial summary\n",
      "Hyperparameters:\n",
      "input_units: 110\n",
      "n_layers: 1\n",
      "lstm_0_units: 120\n",
      "output_units: 1\n",
      "Score: 0.001128960051573813\n",
      "Trial summary\n",
      "Hyperparameters:\n",
      "input_units: 60\n",
      "n_layers: 2\n",
      "lstm_0_units: 140\n",
      "output_units: 1\n",
      "lstm_1_units: 280\n",
      "lstm_2_units: 240\n",
      "Score: 0.0011855403427034616\n",
      "Trial summary\n",
      "Hyperparameters:\n",
      "input_units: 190\n",
      "n_layers: 3\n",
      "lstm_0_units: 170\n",
      "output_units: 1\n",
      "lstm_1_units: 10\n",
      "lstm_2_units: 10\n",
      "Score: 0.0015269230352714658\n",
      "None\n"
     ]
    }
   ],
   "source": [
    "print(tuner.results_summary())"
   ]
  },
  {
   "cell_type": "code",
   "execution_count": 772,
   "id": "99c66517",
   "metadata": {
    "scrolled": true
   },
   "outputs": [
    {
     "name": "stdout",
     "output_type": "stream",
     "text": [
      "Model: \"sequential\"\n",
      "_________________________________________________________________\n",
      " Layer (type)                Output Shape              Param #   \n",
      "=================================================================\n",
      " lstm (LSTM)                 (None, 7, 110)            49720     \n",
      "                                                                 \n",
      " lstm_1 (LSTM)               (None, 7, 120)            110880    \n",
      "                                                                 \n",
      " lstm_2 (LSTM)               (None, 1)                 488       \n",
      "                                                                 \n",
      "=================================================================\n",
      "Total params: 161,088\n",
      "Trainable params: 161,088\n",
      "Non-trainable params: 0\n",
      "_________________________________________________________________\n",
      "WARNING:tensorflow:Unresolved object in checkpoint: (root).optimizer.iter\n",
      "WARNING:tensorflow:Unresolved object in checkpoint: (root).optimizer.beta_1\n",
      "WARNING:tensorflow:Unresolved object in checkpoint: (root).optimizer.beta_2\n",
      "WARNING:tensorflow:Unresolved object in checkpoint: (root).optimizer.decay\n",
      "WARNING:tensorflow:Unresolved object in checkpoint: (root).optimizer.learning_rate\n",
      "WARNING:tensorflow:A checkpoint was restored (e.g. tf.train.Checkpoint.restore or tf.keras.Model.load_weights) but not all checkpointed values were used. See above for specific issues. Use expect_partial() on the load status object, e.g. tf.train.Checkpoint.restore(...).expect_partial(), to silence these warnings, or use assert_consumed() to make the check explicit. See https://www.tensorflow.org/guide/checkpoint#loading_mechanics for details.\n",
      "None\n"
     ]
    }
   ],
   "source": [
    "print(tuner.get_best_models()[0].summary())"
   ]
  },
  {
   "cell_type": "code",
   "execution_count": 773,
   "id": "580daa0d",
   "metadata": {},
   "outputs": [
    {
     "data": {
      "text/plain": [
       "(513, 2)"
      ]
     },
     "execution_count": 773,
     "metadata": {},
     "output_type": "execute_result"
    }
   ],
   "source": [
    "KuwaitCOVID=df[[\"Kuwait_new_cases\",\"Kuwait_Mean_Temp\"]]\n",
    "KuwaitCOVID.shape"
   ]
  },
  {
   "cell_type": "code",
   "execution_count": 774,
   "id": "cadc60c2",
   "metadata": {},
   "outputs": [
    {
     "name": "stdout",
     "output_type": "stream",
     "text": [
      "<class 'numpy.float64'>\n",
      "0.059708981435022575 0.4705882352941176\n"
     ]
    }
   ],
   "source": [
    "scalarKuwaitCOVID=MinMaxScaler()\n",
    "scalarKuwaitCOVID.fit(KuwaitCOVID)\n",
    "normalizedKuwaitCOVID=scalarKuwaitCOVID.transform(KuwaitCOVID)\n",
    "\n",
    "print(type(normalizedKuwaitCOVID[2][0]))\n",
    "print(normalizedKuwaitCOVID[0][0],normalizedKuwaitCOVID[0][1])"
   ]
  },
  {
   "cell_type": "code",
   "execution_count": 775,
   "id": "24110ee8",
   "metadata": {},
   "outputs": [
    {
     "name": "stdout",
     "output_type": "stream",
     "text": [
      "513\n",
      "<class 'numpy.ndarray'>\n",
      "513 513\n",
      "(513, 1)\n",
      "(513, 2)\n",
      "(array([[[0.06723532, 0.41176471],\n",
      "        [0.04666332, 0.47058824],\n",
      "        [0.08228801, 0.5       ],\n",
      "        [0.04014049, 0.44117647],\n",
      "        [0.04264927, 0.44117647],\n",
      "        [0.08429503, 0.47058824],\n",
      "        [0.07576518, 0.55882353]]]), array([0.10787757]))\n"
     ]
    }
   ],
   "source": [
    "from numpy import hstack\n",
    "n_input=7\n",
    "n_output=1\n",
    "casesKuwait=[]\n",
    "Kuwaittemp=[]\n",
    "\n",
    "number=normalizedKuwaitCOVID.shape[0]\n",
    "print(number)\n",
    "print(type(normalizedKuwaitCOVID))\n",
    "targetKuwait=[]\n",
    "targetCases3=normalizedKuwaitCOVID[:,0]\n",
    "for i in range(0,number):\n",
    "    casesKuwait.append(normalizedKuwaitCOVID[i][0])\n",
    "    Kuwaittemp.append(normalizedKuwaitCOVID[i][1])\n",
    "\n",
    "casesKuwait=np.array(casesKuwait)\n",
    "Kuwaittemp=np.array(Kuwaittemp)\n",
    "\n",
    "print(len(casesKuwait),len(Kuwaittemp))\n",
    "casesKuwait=casesKuwait.reshape(len(casesKuwait),1)\n",
    "Kuwaittemp=Kuwaittemp.reshape(len(Kuwaittemp),1)\n",
    "\n",
    "print(casesKuwait.shape)\n",
    "datasetKuwait=hstack((casesKuwait,Kuwaittemp))\n",
    "print(datasetKuwait.shape)\n",
    "generatorKuwait=TimeseriesGenerator(datasetKuwait,targetCases3,length=n_input,batch_size=1)\n",
    "print(generatorKuwait[1])"
   ]
  },
  {
   "cell_type": "code",
   "execution_count": 776,
   "id": "677adeb7",
   "metadata": {},
   "outputs": [
    {
     "name": "stdout",
     "output_type": "stream",
     "text": [
      "<class 'numpy.ndarray'>\n",
      "(506, 7, 2)\n",
      "(506,)\n",
      "<class 'numpy.ndarray'>\n",
      "(404, 7, 2)\n"
     ]
    }
   ],
   "source": [
    "dataKuwait=[]\n",
    "targetKuwait=[]\n",
    "for i in range(len(generatorKuwait)):\n",
    "    data4,target4=generatorKuwait[i]\n",
    "    dataKuwait.append(data4[0,:,:])\n",
    "    xx=float(target4)\n",
    "    targetKuwait.append(xx)\n",
    "dataKuwait=np.array(dataKuwait)\n",
    "targetKuwait=np.array(targetKuwait)\n",
    "print(type(dataKuwait))\n",
    "print(dataKuwait.shape)\n",
    "print(targetKuwait.shape)\n",
    "x_train_Kuwait,x_test_Kuwait,y_train_Kuwait,y_test_Kuwait=train_test_split(dataKuwait,targetKuwait,test_size=0.2,random_state=4)\n",
    "print(type(dataKuwait))\n",
    "print(x_train_Kuwait.shape)"
   ]
  },
  {
   "cell_type": "code",
   "execution_count": 777,
   "id": "7bd097c6",
   "metadata": {},
   "outputs": [],
   "source": [
    "def build_model2(hp):\n",
    "    model2=keras.models.Sequential()\n",
    "    model2.add(LSTM((hp.Int(\"input_units\",min_value=10,max_value=300,step=10)),input_shape=(x_train_Kuwait.shape[1],x_train_Kuwait.shape[2]),activation='sigmoid',return_sequences=True))\n",
    "    for i in range(hp.Int(\"n_layers\",1,4)):\n",
    "        model2.add(LSTM(hp.Int(f\"lstm_{i}_units\",min_value=10,max_value=300,step=10),activation='sigmoid',return_sequences=True))\n",
    "        \n",
    "    model2.add(LSTM((hp.Int(\"output_units\",min_value=1,max_value=1,step=1)),activation='tanh',return_sequences=False))\n",
    "    model2.compile(loss='mse',optimizer='adam',metrics=['accuracy'])\n",
    "    return model2"
   ]
  },
  {
   "cell_type": "code",
   "execution_count": 778,
   "id": "11472267",
   "metadata": {},
   "outputs": [],
   "source": [
    "Kuwait_bivar=f\"{int(time.time())}\""
   ]
  },
  {
   "cell_type": "code",
   "execution_count": 779,
   "id": "3e084af4",
   "metadata": {},
   "outputs": [],
   "source": [
    "tuner =RandomSearch(\n",
    "    build_model2,\n",
    "    objective=\"loss\",\n",
    "    overwrite=False,\n",
    "    max_trials=3,\n",
    "    executions_per_trial=1,\n",
    "    directory=Kuwait_bivar)"
   ]
  },
  {
   "cell_type": "code",
   "execution_count": 780,
   "id": "50340a7f",
   "metadata": {
    "scrolled": true
   },
   "outputs": [
    {
     "name": "stdout",
     "output_type": "stream",
     "text": [
      "Trial 3 Complete [00h 02m 58s]\n",
      "loss: 0.0047593326307833195\n",
      "\n",
      "Best loss So Far: 0.0047593326307833195\n",
      "Total elapsed time: 00h 09m 54s\n",
      "INFO:tensorflow:Oracle triggered exit\n"
     ]
    }
   ],
   "source": [
    "tuner.search(x=x_train_Kuwait, y=y_train_Kuwait, epochs=40,batch_size=1,validation_data=(x_test_Kuwait,y_test_Kuwait))"
   ]
  },
  {
   "cell_type": "code",
   "execution_count": 781,
   "id": "4ea6d215",
   "metadata": {},
   "outputs": [
    {
     "name": "stdout",
     "output_type": "stream",
     "text": [
      "{'input_units': 60, 'n_layers': 3, 'lstm_0_units': 50, 'output_units': 1, 'lstm_1_units': 140, 'lstm_2_units': 200, 'lstm_3_units': 80}\n"
     ]
    }
   ],
   "source": [
    "print(tuner.get_best_hyperparameters()[0].values)"
   ]
  },
  {
   "cell_type": "code",
   "execution_count": 782,
   "id": "fd7c452a",
   "metadata": {},
   "outputs": [
    {
     "name": "stdout",
     "output_type": "stream",
     "text": [
      "Results summary\n",
      "Results in 1639098182\\untitled_project\n",
      "Showing 10 best trials\n",
      "Objective(name='loss', direction='min')\n",
      "Trial summary\n",
      "Hyperparameters:\n",
      "input_units: 60\n",
      "n_layers: 3\n",
      "lstm_0_units: 50\n",
      "output_units: 1\n",
      "lstm_1_units: 140\n",
      "lstm_2_units: 200\n",
      "lstm_3_units: 80\n",
      "Score: 0.0047593326307833195\n",
      "Trial summary\n",
      "Hyperparameters:\n",
      "input_units: 300\n",
      "n_layers: 3\n",
      "lstm_0_units: 30\n",
      "output_units: 1\n",
      "lstm_1_units: 10\n",
      "lstm_2_units: 10\n",
      "Score: 0.005388186313211918\n",
      "Trial summary\n",
      "Hyperparameters:\n",
      "input_units: 210\n",
      "n_layers: 4\n",
      "lstm_0_units: 190\n",
      "output_units: 1\n",
      "lstm_1_units: 40\n",
      "lstm_2_units: 260\n",
      "lstm_3_units: 10\n",
      "Score: 0.012061669491231441\n",
      "None\n"
     ]
    }
   ],
   "source": [
    "print(tuner.results_summary())"
   ]
  },
  {
   "cell_type": "code",
   "execution_count": 783,
   "id": "6ee6e4a7",
   "metadata": {
    "scrolled": true
   },
   "outputs": [
    {
     "name": "stdout",
     "output_type": "stream",
     "text": [
      "Model: \"sequential\"\n",
      "_________________________________________________________________\n",
      " Layer (type)                Output Shape              Param #   \n",
      "=================================================================\n",
      " lstm (LSTM)                 (None, 7, 60)             15120     \n",
      "                                                                 \n",
      " lstm_1 (LSTM)               (None, 7, 50)             22200     \n",
      "                                                                 \n",
      " lstm_2 (LSTM)               (None, 7, 140)            106960    \n",
      "                                                                 \n",
      " lstm_3 (LSTM)               (None, 7, 200)            272800    \n",
      "                                                                 \n",
      " lstm_4 (LSTM)               (None, 1)                 808       \n",
      "                                                                 \n",
      "=================================================================\n",
      "Total params: 417,888\n",
      "Trainable params: 417,888\n",
      "Non-trainable params: 0\n",
      "_________________________________________________________________\n",
      "WARNING:tensorflow:Unresolved object in checkpoint: (root).optimizer.iter\n",
      "WARNING:tensorflow:Unresolved object in checkpoint: (root).optimizer.beta_1\n",
      "WARNING:tensorflow:Unresolved object in checkpoint: (root).optimizer.beta_2\n",
      "WARNING:tensorflow:Unresolved object in checkpoint: (root).optimizer.decay\n",
      "WARNING:tensorflow:Unresolved object in checkpoint: (root).optimizer.learning_rate\n",
      "WARNING:tensorflow:A checkpoint was restored (e.g. tf.train.Checkpoint.restore or tf.keras.Model.load_weights) but not all checkpointed values were used. See above for specific issues. Use expect_partial() on the load status object, e.g. tf.train.Checkpoint.restore(...).expect_partial(), to silence these warnings, or use assert_consumed() to make the check explicit. See https://www.tensorflow.org/guide/checkpoint#loading_mechanics for details.\n",
      "None\n"
     ]
    }
   ],
   "source": [
    "print(tuner.get_best_models()[0].summary())"
   ]
  },
  {
   "cell_type": "code",
   "execution_count": 784,
   "id": "bd35fd55",
   "metadata": {
    "scrolled": false
   },
   "outputs": [
    {
     "data": {
      "text/plain": [
       "(513, 2)"
      ]
     },
     "execution_count": 784,
     "metadata": {},
     "output_type": "execute_result"
    }
   ],
   "source": [
    "BahrainCOVID=df[[\"Bahrain_new_cases\",\"Bahrain_Mean_Tem\"]]\n",
    "BahrainCOVID.shape"
   ]
  },
  {
   "cell_type": "code",
   "execution_count": 785,
   "id": "62d31417",
   "metadata": {},
   "outputs": [
    {
     "name": "stdout",
     "output_type": "stream",
     "text": [
      "<class 'numpy.float64'>\n",
      "0.0 0.2272727272727273\n"
     ]
    }
   ],
   "source": [
    "scalarBahrainCOVID=MinMaxScaler()\n",
    "scalarBahrainCOVID.fit(BahrainCOVID)\n",
    "normalizedBahrainCOVID=scalarBahrainCOVID.transform(BahrainCOVID)\n",
    "\n",
    "print(type(normalizedBahrainCOVID[2][0]))\n",
    "print(normalizedBahrainCOVID[0][0],normalizedBahrainCOVID[0][1])"
   ]
  },
  {
   "cell_type": "code",
   "execution_count": 786,
   "id": "10506a7f",
   "metadata": {},
   "outputs": [
    {
     "name": "stdout",
     "output_type": "stream",
     "text": [
      "513\n",
      "<class 'numpy.ndarray'>\n",
      "513 513\n",
      "(513, 1)\n",
      "(513, 2)\n",
      "(array([[[0.00645756, 0.29545455],\n",
      "        [0.00184502, 0.22727273],\n",
      "        [0.02613776, 0.22727273],\n",
      "        [0.00092251, 0.25      ],\n",
      "        [0.01322263, 0.25      ],\n",
      "        [0.0095326 , 0.27272727],\n",
      "        [0.05135301, 0.29545455]]]), array([0.08548585]))\n"
     ]
    }
   ],
   "source": [
    "from numpy import hstack\n",
    "n_input=7\n",
    "n_output=1\n",
    "casesBahrain=[]\n",
    "Bahraintemp=[]\n",
    "\n",
    "number=normalizedBahrainCOVID.shape[0]\n",
    "print(number)\n",
    "print(type(normalizedBahrainCOVID))\n",
    "targetBahrain=[]\n",
    "targetCases2=normalizedBahrainCOVID[:,0]\n",
    "for i in range(0,number):\n",
    "    casesBahrain.append(normalizedBahrainCOVID[i][0])\n",
    "    Bahraintemp.append(normalizedBahrainCOVID[i][1])\n",
    "\n",
    "casesBahrain=np.array(casesBahrain)\n",
    "Bahraintemp=np.array(Bahraintemp)\n",
    "\n",
    "print(len(casesBahrain),len(Bahraintemp))\n",
    "casesBahrain=casesBahrain.reshape(len(casesBahrain),1)\n",
    "Bahraintemp=Bahraintemp.reshape(len(Bahraintemp),1)\n",
    "\n",
    "print(casesBahrain.shape)\n",
    "datasetBahrain=hstack((casesBahrain,Bahraintemp))\n",
    "print(datasetBahrain.shape)\n",
    "generatorBahrain=TimeseriesGenerator(datasetBahrain,targetCases2,length=n_input,batch_size=1)\n",
    "print(generatorBahrain[1])"
   ]
  },
  {
   "cell_type": "code",
   "execution_count": 787,
   "id": "0d42c36e",
   "metadata": {},
   "outputs": [
    {
     "name": "stdout",
     "output_type": "stream",
     "text": [
      "<class 'numpy.ndarray'>\n",
      "(506, 7, 2)\n",
      "(506,)\n",
      "<class 'numpy.ndarray'>\n",
      "(404, 7, 2)\n"
     ]
    }
   ],
   "source": [
    "dataBahrain=[]\n",
    "targetBahrain=[]\n",
    "for i in range(len(generatorBahrain)):\n",
    "    data3,target3=generatorBahrain[i]\n",
    "    dataBahrain.append(data3[0,:,:])\n",
    "    xx=float(target3)\n",
    "    targetBahrain.append(xx)\n",
    "dataBahrain=np.array(dataBahrain)\n",
    "targetBahrain=np.array(targetBahrain)\n",
    "print(type(dataBahrain))\n",
    "print(dataBahrain.shape)\n",
    "print(targetBahrain.shape)\n",
    "x_train_Bahrain,x_test_Bahrain,y_train_Bahrain,y_test_Bahrain=train_test_split(dataBahrain,targetBahrain,test_size=0.2,random_state=4)\n",
    "print(type(dataBahrain))\n",
    "print(x_train_Bahrain.shape)"
   ]
  },
  {
   "cell_type": "code",
   "execution_count": 788,
   "id": "6d5f4a12",
   "metadata": {},
   "outputs": [],
   "source": [
    "def build_model3(hp):\n",
    "    model3=keras.models.Sequential()\n",
    "    model3.add(LSTM((hp.Int(\"input_units\",min_value=10,max_value=300,step=10)),input_shape=(x_train_Bahrain.shape[1],x_train_Bahrain.shape[2]),activation='sigmoid',return_sequences=True))\n",
    "    for i in range(hp.Int(\"n_layers\",1,4)):\n",
    "        model3.add(LSTM(hp.Int(f\"lstm_{i}_units\",min_value=10,max_value=300,step=10),activation='sigmoid',return_sequences=True))\n",
    "        \n",
    "    model3.add(LSTM((hp.Int(\"output_units\",min_value=1,max_value=1,step=1)),activation='tanh',return_sequences=False))\n",
    "    model3.compile(loss='mse',optimizer='adam',metrics=['accuracy'])\n",
    "    return model3"
   ]
  },
  {
   "cell_type": "code",
   "execution_count": 789,
   "id": "0f6b27bd",
   "metadata": {},
   "outputs": [],
   "source": [
    "Bahrain_bivar=f\"{int(time.time())}\""
   ]
  },
  {
   "cell_type": "code",
   "execution_count": 790,
   "id": "5edc5677",
   "metadata": {},
   "outputs": [],
   "source": [
    "tuner =RandomSearch(\n",
    "    build_model3,\n",
    "    objective=\"loss\",\n",
    "    overwrite=False,\n",
    "    max_trials=3,\n",
    "    executions_per_trial=1,\n",
    "    directory=Bahrain_bivar)"
   ]
  },
  {
   "cell_type": "code",
   "execution_count": 791,
   "id": "a449d0fb",
   "metadata": {
    "scrolled": true
   },
   "outputs": [
    {
     "name": "stdout",
     "output_type": "stream",
     "text": [
      "Trial 3 Complete [00h 08m 55s]\n",
      "loss: 0.02728627622127533\n",
      "\n",
      "Best loss So Far: 0.0014128845650702715\n",
      "Total elapsed time: 00h 24m 24s\n",
      "INFO:tensorflow:Oracle triggered exit\n"
     ]
    }
   ],
   "source": [
    "tuner.search(x=x_train_Bahrain, y=y_train_Bahrain, epochs=40,batch_size=1,validation_data=(x_test_Bahrain,y_test_Bahrain))"
   ]
  },
  {
   "cell_type": "code",
   "execution_count": 723,
   "id": "2ca2133c",
   "metadata": {},
   "outputs": [
    {
     "name": "stdout",
     "output_type": "stream",
     "text": [
      "{'input_units': 40, 'n_layers': 2, 'lstm_0_units': 230, 'output_units': 1, 'lstm_1_units': 180}\n"
     ]
    }
   ],
   "source": [
    "print(tuner.get_best_hyperparameters()[0].values)"
   ]
  },
  {
   "cell_type": "code",
   "execution_count": 792,
   "id": "ea306824",
   "metadata": {},
   "outputs": [
    {
     "name": "stdout",
     "output_type": "stream",
     "text": [
      "Results summary\n",
      "Results in 1639098946\\untitled_project\n",
      "Showing 10 best trials\n",
      "Objective(name='loss', direction='min')\n",
      "Trial summary\n",
      "Hyperparameters:\n",
      "input_units: 110\n",
      "n_layers: 2\n",
      "lstm_0_units: 30\n",
      "output_units: 1\n",
      "lstm_1_units: 10\n",
      "Score: 0.0014128845650702715\n",
      "Trial summary\n",
      "Hyperparameters:\n",
      "input_units: 40\n",
      "n_layers: 4\n",
      "lstm_0_units: 30\n",
      "output_units: 1\n",
      "lstm_1_units: 270\n",
      "lstm_2_units: 220\n",
      "lstm_3_units: 30\n",
      "Score: 0.02728627622127533\n",
      "Trial summary\n",
      "Hyperparameters:\n",
      "input_units: 240\n",
      "n_layers: 4\n",
      "lstm_0_units: 230\n",
      "output_units: 1\n",
      "lstm_1_units: 270\n",
      "lstm_2_units: 10\n",
      "lstm_3_units: 10\n",
      "Score: 0.02737380936741829\n",
      "None\n"
     ]
    }
   ],
   "source": [
    "print(tuner.results_summary())"
   ]
  },
  {
   "cell_type": "code",
   "execution_count": 793,
   "id": "2a5be3af",
   "metadata": {
    "scrolled": true
   },
   "outputs": [
    {
     "name": "stdout",
     "output_type": "stream",
     "text": [
      "Model: \"sequential\"\n",
      "_________________________________________________________________\n",
      " Layer (type)                Output Shape              Param #   \n",
      "=================================================================\n",
      " lstm (LSTM)                 (None, 7, 110)            49720     \n",
      "                                                                 \n",
      " lstm_1 (LSTM)               (None, 7, 30)             16920     \n",
      "                                                                 \n",
      " lstm_2 (LSTM)               (None, 7, 10)             1640      \n",
      "                                                                 \n",
      " lstm_3 (LSTM)               (None, 1)                 48        \n",
      "                                                                 \n",
      "=================================================================\n",
      "Total params: 68,328\n",
      "Trainable params: 68,328\n",
      "Non-trainable params: 0\n",
      "_________________________________________________________________\n",
      "WARNING:tensorflow:Unresolved object in checkpoint: (root).optimizer.iter\n",
      "WARNING:tensorflow:Unresolved object in checkpoint: (root).optimizer.beta_1\n",
      "WARNING:tensorflow:Unresolved object in checkpoint: (root).optimizer.beta_2\n",
      "WARNING:tensorflow:Unresolved object in checkpoint: (root).optimizer.decay\n",
      "WARNING:tensorflow:Unresolved object in checkpoint: (root).optimizer.learning_rate\n",
      "WARNING:tensorflow:A checkpoint was restored (e.g. tf.train.Checkpoint.restore or tf.keras.Model.load_weights) but not all checkpointed values were used. See above for specific issues. Use expect_partial() on the load status object, e.g. tf.train.Checkpoint.restore(...).expect_partial(), to silence these warnings, or use assert_consumed() to make the check explicit. See https://www.tensorflow.org/guide/checkpoint#loading_mechanics for details.\n",
      "None\n"
     ]
    }
   ],
   "source": [
    "print(tuner.get_best_models()[0].summary())"
   ]
  },
  {
   "cell_type": "code",
   "execution_count": 794,
   "id": "485dd844",
   "metadata": {},
   "outputs": [
    {
     "data": {
      "text/plain": [
       "(513, 2)"
      ]
     },
     "execution_count": 794,
     "metadata": {},
     "output_type": "execute_result"
    }
   ],
   "source": [
    "QatarCOVID=df[[\"Qatar_new_cases\",\"Qatar_Mean_Temp\"]]\n",
    "QatarCOVID.shape"
   ]
  },
  {
   "cell_type": "code",
   "execution_count": 795,
   "id": "464f909c",
   "metadata": {},
   "outputs": [
    {
     "name": "stdout",
     "output_type": "stream",
     "text": [
      "<class 'numpy.float64'>\n",
      "0.1664543524416136 0.34615384615384615\n"
     ]
    }
   ],
   "source": [
    "scalarQatarCOVID=MinMaxScaler()\n",
    "scalarQatarCOVID.fit(QatarCOVID)\n",
    "normalizedQatarCOVID=scalarQatarCOVID.transform(QatarCOVID)\n",
    "\n",
    "print(type(normalizedQatarCOVID[2][0]))\n",
    "print(normalizedQatarCOVID[0][0],normalizedQatarCOVID[0][1])"
   ]
  },
  {
   "cell_type": "code",
   "execution_count": 796,
   "id": "a7c668f1",
   "metadata": {},
   "outputs": [
    {
     "name": "stdout",
     "output_type": "stream",
     "text": [
      "513\n",
      "<class 'numpy.ndarray'>\n",
      "513 513\n",
      "(513, 1)\n",
      "(513, 2)\n",
      "(array([[[0.23779193, 0.34615385],\n",
      "        [0.14649682, 0.38461538],\n",
      "        [0.18683652, 0.42307692],\n",
      "        [0.24076433, 0.42307692],\n",
      "        [0.21995754, 0.42307692],\n",
      "        [0.2581741 , 0.42307692],\n",
      "        [0.26454352, 0.53846154]]]), array([0.32314225]))\n"
     ]
    }
   ],
   "source": [
    "from numpy import hstack\n",
    "n_input=7\n",
    "n_output=1\n",
    "casesQatar=[]\n",
    "Qatartemp=[]\n",
    "\n",
    "number=normalizedQatarCOVID.shape[0]\n",
    "print(number)\n",
    "print(type(normalizedQatarCOVID))\n",
    "targetQatar=[]\n",
    "targetCases4=normalizedQatarCOVID[:,0]\n",
    "for i in range(0,number):\n",
    "    casesQatar.append(normalizedQatarCOVID[i][0])\n",
    "    Qatartemp.append(normalizedQatarCOVID[i][1])\n",
    "\n",
    "casesQatar=np.array(casesQatar)\n",
    "Qatartemp=np.array(Qatartemp)\n",
    "\n",
    "print(len(casesQatar),len(Qatartemp))\n",
    "casesQatar=casesQatar.reshape(len(casesQatar),1)\n",
    "Qatartemp=Qatartemp.reshape(len(Qatartemp),1)\n",
    "\n",
    "print(casesQatar.shape)\n",
    "datasetQatar=hstack((casesQatar,Qatartemp))\n",
    "print(datasetQatar.shape)\n",
    "generatorQatar=TimeseriesGenerator(datasetQatar,targetCases4,length=n_input,batch_size=1)\n",
    "print(generatorQatar[1])"
   ]
  },
  {
   "cell_type": "code",
   "execution_count": 797,
   "id": "f9963872",
   "metadata": {},
   "outputs": [
    {
     "name": "stdout",
     "output_type": "stream",
     "text": [
      "<class 'numpy.ndarray'>\n",
      "(506, 7, 2)\n",
      "(506,)\n",
      "<class 'numpy.ndarray'>\n",
      "(404, 7, 2)\n"
     ]
    }
   ],
   "source": [
    "dataQatar=[]\n",
    "targetQatar=[]\n",
    "for i in range(len(generatorQatar)):\n",
    "    data5,target5=generatorQatar[i]\n",
    "    dataQatar.append(data5[0,:,:])\n",
    "    xx=float(target5)\n",
    "    targetQatar.append(xx)\n",
    "dataQatar=np.array(dataQatar)\n",
    "targetQatar=np.array(targetQatar)\n",
    "print(type(dataQatar))\n",
    "print(dataQatar.shape)\n",
    "print(targetQatar.shape)\n",
    "x_train_Qatar,x_test_Qatar,y_train_Qatar,y_test_Qatar=train_test_split(dataQatar,targetQatar,test_size=0.2,random_state=4)\n",
    "print(type(dataQatar))\n",
    "print(x_train_Qatar.shape)"
   ]
  },
  {
   "cell_type": "code",
   "execution_count": 798,
   "id": "bed94f34",
   "metadata": {},
   "outputs": [],
   "source": [
    "def build_model4(hp):\n",
    "    model4=keras.models.Sequential()\n",
    "    model4.add(LSTM((hp.Int(\"input_units\",min_value=10,max_value=300,step=10)),input_shape=(x_train_Qatar.shape[1],x_train_Qatar.shape[2]),activation='sigmoid',return_sequences=True))\n",
    "    for i in range(hp.Int(\"n_layers\",1,4)):\n",
    "        model4.add(LSTM(hp.Int(f\"lstm_{i}_units\",min_value=10,max_value=300,step=10),activation='sigmoid',return_sequences=True))\n",
    "        \n",
    "    model4.add(LSTM((hp.Int(\"output_units\",min_value=1,max_value=1,step=1)),activation='tanh',return_sequences=False))\n",
    "    model4.compile(loss='mse',optimizer='adam',metrics=['accuracy'])\n",
    "    return model4"
   ]
  },
  {
   "cell_type": "code",
   "execution_count": 799,
   "id": "b1ce6e26",
   "metadata": {},
   "outputs": [],
   "source": [
    "Qatar_bivar=f\"{int(time.time())}\""
   ]
  },
  {
   "cell_type": "code",
   "execution_count": 800,
   "id": "1a9cc971",
   "metadata": {},
   "outputs": [],
   "source": [
    "tuner =RandomSearch(\n",
    "    build_model4,\n",
    "    objective=\"loss\",\n",
    "    overwrite=False,\n",
    "    max_trials=3,\n",
    "    executions_per_trial=1,\n",
    "    directory=Qatar_bivar)"
   ]
  },
  {
   "cell_type": "code",
   "execution_count": 801,
   "id": "77c7c70f",
   "metadata": {
    "scrolled": true
   },
   "outputs": [
    {
     "name": "stdout",
     "output_type": "stream",
     "text": [
      "Trial 3 Complete [00h 08m 34s]\n",
      "loss: 0.03314037621021271\n",
      "\n",
      "Best loss So Far: 0.0015808757161721587\n",
      "Total elapsed time: 00h 17m 58s\n",
      "INFO:tensorflow:Oracle triggered exit\n"
     ]
    }
   ],
   "source": [
    "tuner.search(x=x_train_Qatar, y=y_train_Qatar, epochs=40,batch_size=1,validation_data=(x_test_Qatar,y_test_Qatar))"
   ]
  },
  {
   "cell_type": "code",
   "execution_count": 803,
   "id": "83e548c5",
   "metadata": {},
   "outputs": [
    {
     "name": "stdout",
     "output_type": "stream",
     "text": [
      "{'input_units': 90, 'n_layers': 2, 'lstm_0_units': 230, 'output_units': 1, 'lstm_1_units': 10}\n"
     ]
    }
   ],
   "source": [
    "print(tuner.get_best_hyperparameters()[0].values)"
   ]
  },
  {
   "cell_type": "code",
   "execution_count": 804,
   "id": "be9d1232",
   "metadata": {},
   "outputs": [
    {
     "name": "stdout",
     "output_type": "stream",
     "text": [
      "Results summary\n",
      "Results in 1639101713\\untitled_project\n",
      "Showing 10 best trials\n",
      "Objective(name='loss', direction='min')\n",
      "Trial summary\n",
      "Hyperparameters:\n",
      "input_units: 90\n",
      "n_layers: 2\n",
      "lstm_0_units: 230\n",
      "output_units: 1\n",
      "lstm_1_units: 10\n",
      "Score: 0.0015808757161721587\n",
      "Trial summary\n",
      "Hyperparameters:\n",
      "input_units: 10\n",
      "n_layers: 1\n",
      "lstm_0_units: 10\n",
      "output_units: 1\n",
      "Score: 0.0018930812366306782\n",
      "Trial summary\n",
      "Hyperparameters:\n",
      "input_units: 90\n",
      "n_layers: 4\n",
      "lstm_0_units: 260\n",
      "output_units: 1\n",
      "lstm_1_units: 150\n",
      "lstm_2_units: 10\n",
      "lstm_3_units: 10\n",
      "Score: 0.03314037621021271\n",
      "None\n"
     ]
    }
   ],
   "source": [
    "print(tuner.results_summary())"
   ]
  },
  {
   "cell_type": "code",
   "execution_count": 805,
   "id": "272ed808",
   "metadata": {},
   "outputs": [
    {
     "name": "stdout",
     "output_type": "stream",
     "text": [
      "Model: \"sequential\"\n",
      "_________________________________________________________________\n",
      " Layer (type)                Output Shape              Param #   \n",
      "=================================================================\n",
      " lstm (LSTM)                 (None, 7, 90)             33480     \n",
      "                                                                 \n",
      " lstm_1 (LSTM)               (None, 7, 230)            295320    \n",
      "                                                                 \n",
      " lstm_2 (LSTM)               (None, 7, 10)             9640      \n",
      "                                                                 \n",
      " lstm_3 (LSTM)               (None, 1)                 48        \n",
      "                                                                 \n",
      "=================================================================\n",
      "Total params: 338,488\n",
      "Trainable params: 338,488\n",
      "Non-trainable params: 0\n",
      "_________________________________________________________________\n",
      "WARNING:tensorflow:Unresolved object in checkpoint: (root).optimizer.iter\n",
      "WARNING:tensorflow:Unresolved object in checkpoint: (root).optimizer.beta_1\n",
      "WARNING:tensorflow:Unresolved object in checkpoint: (root).optimizer.beta_2\n",
      "WARNING:tensorflow:Unresolved object in checkpoint: (root).optimizer.decay\n",
      "WARNING:tensorflow:Unresolved object in checkpoint: (root).optimizer.learning_rate\n",
      "WARNING:tensorflow:A checkpoint was restored (e.g. tf.train.Checkpoint.restore or tf.keras.Model.load_weights) but not all checkpointed values were used. See above for specific issues. Use expect_partial() on the load status object, e.g. tf.train.Checkpoint.restore(...).expect_partial(), to silence these warnings, or use assert_consumed() to make the check explicit. See https://www.tensorflow.org/guide/checkpoint#loading_mechanics for details.\n",
      "None\n"
     ]
    }
   ],
   "source": [
    "print(tuner.get_best_models()[0].summary())"
   ]
  },
  {
   "cell_type": "code",
   "execution_count": 806,
   "id": "832e7280",
   "metadata": {},
   "outputs": [
    {
     "data": {
      "text/plain": [
       "(513, 2)"
      ]
     },
     "execution_count": 806,
     "metadata": {},
     "output_type": "execute_result"
    }
   ],
   "source": [
    "OmanCOVID=df[[\"Oman_new_cases\",\"Oman_Mean_Temp\"]]\n",
    "OmanCOVID.shape"
   ]
  },
  {
   "cell_type": "code",
   "execution_count": 807,
   "id": "7dbfa339",
   "metadata": {},
   "outputs": [
    {
     "name": "stdout",
     "output_type": "stream",
     "text": [
      "<class 'numpy.float64'>\n",
      "0.014108352144469524 0.41666666666666674\n"
     ]
    }
   ],
   "source": [
    "scalarOmanCOVID=MinMaxScaler()\n",
    "scalarOmanCOVID.fit(OmanCOVID)\n",
    "normalizedOmanCOVID=scalarOmanCOVID.transform(OmanCOVID)\n",
    "\n",
    "print(type(normalizedOmanCOVID[2][0]))\n",
    "print(normalizedOmanCOVID[0][0],normalizedOmanCOVID[0][1])"
   ]
  },
  {
   "cell_type": "code",
   "execution_count": 808,
   "id": "542ec16f",
   "metadata": {},
   "outputs": [
    {
     "name": "stdout",
     "output_type": "stream",
     "text": [
      "513\n",
      "<class 'numpy.ndarray'>\n",
      "513 513\n",
      "(513, 1)\n",
      "(513, 2)\n",
      "(array([[[0.03132054, 0.41666667],\n",
      "        [0.02426637, 0.45833333],\n",
      "        [0.04063205, 0.54166667],\n",
      "        [0.02765237, 0.58333333],\n",
      "        [0.02990971, 0.58333333],\n",
      "        [0.02878104, 0.58333333],\n",
      "        [0.        , 0.625     ]]]), array([0.05332957]))\n"
     ]
    }
   ],
   "source": [
    "from numpy import hstack\n",
    "n_input=7\n",
    "n_output=1\n",
    "casesOman=[]\n",
    "Omantemp=[]\n",
    "\n",
    "number=normalizedOmanCOVID.shape[0]\n",
    "print(number)\n",
    "print(type(normalizedOmanCOVID))\n",
    "targetOman=[]\n",
    "targetCases5=normalizedOmanCOVID[:,0]\n",
    "for i in range(0,number):\n",
    "    casesOman.append(normalizedOmanCOVID[i][0])\n",
    "    Omantemp.append(normalizedOmanCOVID[i][1])\n",
    "    \n",
    "\n",
    "casesOman=np.array(casesOman)\n",
    "Omantemp=np.array(Omantemp)\n",
    "\n",
    "print(len(casesOman),len(Omantemp))\n",
    "casesOman=casesOman.reshape(len(casesOman),1)\n",
    "Omantemp=Omantemp.reshape(len(Omantemp),1)\n",
    "\n",
    "print(casesOman.shape)\n",
    "datasetOman=hstack((casesOman,Omantemp))\n",
    "print(datasetOman.shape)\n",
    "generatorOman=TimeseriesGenerator(datasetOman,targetCases5,length=n_input,batch_size=1)\n",
    "print(generatorOman[1])"
   ]
  },
  {
   "cell_type": "code",
   "execution_count": 809,
   "id": "56222a99",
   "metadata": {},
   "outputs": [
    {
     "name": "stdout",
     "output_type": "stream",
     "text": [
      "<class 'numpy.ndarray'>\n",
      "(506, 7, 2)\n",
      "(506,)\n",
      "<class 'numpy.ndarray'>\n",
      "(404, 7, 2)\n"
     ]
    }
   ],
   "source": [
    "dataOman=[]\n",
    "targetOman=[]\n",
    "for i in range(len(generatorOman)):\n",
    "    data6,target6=generatorOman[i]\n",
    "    dataOman.append(data6[0,:,:])\n",
    "    xx=float(target6)\n",
    "    targetOman.append(xx)\n",
    "dataOman=np.array(dataOman)\n",
    "targetOman=np.array(targetOman)\n",
    "print(type(dataOman))\n",
    "print(dataOman.shape)\n",
    "print(targetOman.shape)\n",
    "x_train_Oman,x_test_Oman,y_train_Oman,y_test_Oman=train_test_split(dataOman,targetOman,test_size=0.2,random_state=4)\n",
    "print(type(dataOman))\n",
    "print(x_train_Oman.shape)"
   ]
  },
  {
   "cell_type": "code",
   "execution_count": 810,
   "id": "aef3af82",
   "metadata": {},
   "outputs": [],
   "source": [
    "def build_model5(hp):\n",
    "    model5=keras.models.Sequential()\n",
    "    model5.add(LSTM((hp.Int(\"input_units\",min_value=10,max_value=300,step=10)),input_shape=(x_train_Oman.shape[1],x_train_Oman.shape[2]),activation='sigmoid',return_sequences=True))\n",
    "    for i in range(hp.Int(\"n_layers\",1,4)):\n",
    "        model5.add(LSTM(hp.Int(f\"lstm_{i}_units\",min_value=10,max_value=300,step=10),activation='sigmoid',return_sequences=True))\n",
    "        \n",
    "    model5.add(LSTM((hp.Int(\"output_units\",min_value=1,max_value=1,step=1)),activation='tanh',return_sequences=False))\n",
    "    model5.compile(loss='mse',optimizer='adam',metrics=['accuracy'])\n",
    "    return model5"
   ]
  },
  {
   "cell_type": "code",
   "execution_count": 811,
   "id": "afa30053",
   "metadata": {},
   "outputs": [],
   "source": [
    "Oman_bivar=f\"{int(time.time())}\""
   ]
  },
  {
   "cell_type": "code",
   "execution_count": 812,
   "id": "df0d976c",
   "metadata": {},
   "outputs": [],
   "source": [
    "tuner =RandomSearch(\n",
    "    build_model5,\n",
    "    objective=\"loss\",\n",
    "    overwrite=False,\n",
    "    max_trials=3,\n",
    "    executions_per_trial=1,\n",
    "    directory=Oman_bivar)"
   ]
  },
  {
   "cell_type": "code",
   "execution_count": 813,
   "id": "6ab0d612",
   "metadata": {
    "scrolled": true
   },
   "outputs": [
    {
     "name": "stdout",
     "output_type": "stream",
     "text": [
      "Trial 3 Complete [00h 09m 01s]\n",
      "loss: 0.012322972528636456\n",
      "\n",
      "Best loss So Far: 0.007750484626740217\n",
      "Total elapsed time: 00h 21m 29s\n",
      "INFO:tensorflow:Oracle triggered exit\n"
     ]
    }
   ],
   "source": [
    "tuner.search(x=x_train_Oman, y=y_train_Oman, epochs=40,batch_size=1,validation_data=(x_test_Oman,y_test_Oman))"
   ]
  },
  {
   "cell_type": "code",
   "execution_count": 814,
   "id": "a6134ff8",
   "metadata": {},
   "outputs": [
    {
     "name": "stdout",
     "output_type": "stream",
     "text": [
      "{'input_units': 120, 'n_layers': 3, 'lstm_0_units': 120, 'output_units': 1, 'lstm_1_units': 160, 'lstm_2_units': 20}\n"
     ]
    }
   ],
   "source": [
    "print(tuner.get_best_hyperparameters()[0].values)"
   ]
  },
  {
   "cell_type": "code",
   "execution_count": 815,
   "id": "b6307fd1",
   "metadata": {},
   "outputs": [
    {
     "name": "stdout",
     "output_type": "stream",
     "text": [
      "Results summary\n",
      "Results in 1639103014\\untitled_project\n",
      "Showing 10 best trials\n",
      "Objective(name='loss', direction='min')\n",
      "Trial summary\n",
      "Hyperparameters:\n",
      "input_units: 120\n",
      "n_layers: 3\n",
      "lstm_0_units: 120\n",
      "output_units: 1\n",
      "lstm_1_units: 160\n",
      "lstm_2_units: 20\n",
      "Score: 0.007750484626740217\n",
      "Trial summary\n",
      "Hyperparameters:\n",
      "input_units: 10\n",
      "n_layers: 3\n",
      "lstm_0_units: 90\n",
      "output_units: 1\n",
      "lstm_1_units: 10\n",
      "lstm_2_units: 10\n",
      "Score: 0.009359140880405903\n",
      "Trial summary\n",
      "Hyperparameters:\n",
      "input_units: 260\n",
      "n_layers: 4\n",
      "lstm_0_units: 100\n",
      "output_units: 1\n",
      "lstm_1_units: 230\n",
      "lstm_2_units: 80\n",
      "lstm_3_units: 10\n",
      "Score: 0.012322972528636456\n",
      "None\n"
     ]
    }
   ],
   "source": [
    "print(tuner.results_summary())"
   ]
  },
  {
   "cell_type": "code",
   "execution_count": 816,
   "id": "6476f0cf",
   "metadata": {
    "scrolled": false
   },
   "outputs": [
    {
     "name": "stdout",
     "output_type": "stream",
     "text": [
      "Model: \"sequential\"\n",
      "_________________________________________________________________\n",
      " Layer (type)                Output Shape              Param #   \n",
      "=================================================================\n",
      " lstm (LSTM)                 (None, 7, 120)            59040     \n",
      "                                                                 \n",
      " lstm_1 (LSTM)               (None, 7, 120)            115680    \n",
      "                                                                 \n",
      " lstm_2 (LSTM)               (None, 7, 160)            179840    \n",
      "                                                                 \n",
      " lstm_3 (LSTM)               (None, 7, 20)             14480     \n",
      "                                                                 \n",
      " lstm_4 (LSTM)               (None, 1)                 88        \n",
      "                                                                 \n",
      "=================================================================\n",
      "Total params: 369,128\n",
      "Trainable params: 369,128\n",
      "Non-trainable params: 0\n",
      "_________________________________________________________________\n",
      "WARNING:tensorflow:Unresolved object in checkpoint: (root).optimizer.iter\n",
      "WARNING:tensorflow:Unresolved object in checkpoint: (root).optimizer.beta_1\n",
      "WARNING:tensorflow:Unresolved object in checkpoint: (root).optimizer.beta_2\n",
      "WARNING:tensorflow:Unresolved object in checkpoint: (root).optimizer.decay\n",
      "WARNING:tensorflow:Unresolved object in checkpoint: (root).optimizer.learning_rate\n",
      "WARNING:tensorflow:A checkpoint was restored (e.g. tf.train.Checkpoint.restore or tf.keras.Model.load_weights) but not all checkpointed values were used. See above for specific issues. Use expect_partial() on the load status object, e.g. tf.train.Checkpoint.restore(...).expect_partial(), to silence these warnings, or use assert_consumed() to make the check explicit. See https://www.tensorflow.org/guide/checkpoint#loading_mechanics for details.\n",
      "None\n"
     ]
    }
   ],
   "source": [
    "print(tuner.get_best_models()[0].summary())"
   ]
  },
  {
   "cell_type": "code",
   "execution_count": null,
   "id": "d5704cd7",
   "metadata": {},
   "outputs": [],
   "source": []
  }
 ],
 "metadata": {
  "kernelspec": {
   "display_name": "Python 3",
   "language": "python",
   "name": "python3"
  },
  "language_info": {
   "codemirror_mode": {
    "name": "ipython",
    "version": 3
   },
   "file_extension": ".py",
   "mimetype": "text/x-python",
   "name": "python",
   "nbconvert_exporter": "python",
   "pygments_lexer": "ipython3",
   "version": "3.8.8"
  }
 },
 "nbformat": 4,
 "nbformat_minor": 5
}
